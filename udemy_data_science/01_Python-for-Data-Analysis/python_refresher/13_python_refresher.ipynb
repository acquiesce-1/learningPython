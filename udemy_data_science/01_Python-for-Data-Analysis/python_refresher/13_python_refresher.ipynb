{
 "cells": [
  {
   "cell_type": "code",
   "execution_count": 1,
   "metadata": {},
   "outputs": [
    {
     "name": "stdout",
     "output_type": "stream",
     "text": [
      "wwww.gmail.com\n"
     ]
    }
   ],
   "source": [
    "# write a function that retrieves the domain from an email address\n",
    "def getDomainFromEmail(email_address):\n",
    "    domain = email_address.split(\"@\")[1]\n",
    "    website = ('wwww.' + domain)\n",
    "    return website\n",
    "\n",
    "print(getDomainFromEmail('daniel.e.nieto@gmail.com'))   "
   ]
  },
  {
   "cell_type": "code",
   "execution_count": 2,
   "metadata": {},
   "outputs": [
    {
     "name": "stdout",
     "output_type": "stream",
     "text": [
      "True\n"
     ]
    }
   ],
   "source": [
    "# create a basic funciton that return True if the word 'dog' is\n",
    "# contained in the inout string\n",
    "user_input = \"Is there a dog in there?\"\n",
    "print('dog' in user_input.lower())"
   ]
  },
  {
   "cell_type": "code",
   "execution_count": 3,
   "metadata": {},
   "outputs": [
    {
     "name": "stdout",
     "output_type": "stream",
     "text": [
      "2\n"
     ]
    }
   ],
   "source": [
    "# count how many times dog is in a sentence\n",
    "sentence= \"this dog runs faster than any other dog among all dogs\"\n",
    "word_count = 0\n",
    "for word in sentence.split():\n",
    "    if word == 'dog':\n",
    "        word_count += 1\n",
    "    else:\n",
    "        pass\n",
    "\n",
    "print(word_count)"
   ]
  },
  {
   "cell_type": "code",
   "execution_count": 4,
   "metadata": {},
   "outputs": [
    {
     "name": "stdout",
     "output_type": "stream",
     "text": [
      "['soup', 'salad']\n",
      "['soup', 'salad']\n"
     ]
    }
   ],
   "source": [
    "# use lambda expression to filter out words that do not\n",
    "# start with the letter 's'\n",
    "seq = ['soup','pancakes','cookies','salad']       \n",
    "filter_list = []\n",
    "\n",
    "for i in range(len(seq)):\n",
    "    if seq[i][0] == 's':\n",
    "        filter_list.append(seq[i]) \n",
    "    else:\n",
    "        pass\n",
    "print(filter_list)\n",
    "\n",
    "print(list(filter(lambda word: word[0]=='s',seq)))"
   ]
  },
  {
   "cell_type": "code",
   "execution_count": null,
   "metadata": {},
   "outputs": [],
   "source": []
  }
 ],
 "metadata": {
  "kernelspec": {
   "display_name": "Python 3",
   "language": "python",
   "name": "python3"
  },
  "language_info": {
   "codemirror_mode": {
    "name": "ipython",
    "version": 3
   },
   "file_extension": ".py",
   "mimetype": "text/x-python",
   "name": "python",
   "nbconvert_exporter": "python",
   "pygments_lexer": "ipython3",
   "version": "3.6.3"
  }
 },
 "nbformat": 4,
 "nbformat_minor": 2
}
