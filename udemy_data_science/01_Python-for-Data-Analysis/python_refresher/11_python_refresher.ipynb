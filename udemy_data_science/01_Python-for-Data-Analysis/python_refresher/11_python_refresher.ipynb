{
 "cells": [
  {
   "cell_type": "code",
   "execution_count": 2,
   "metadata": {},
   "outputs": [
    {
     "name": "stdout",
     "output_type": "stream",
     "text": [
      "[1, 4, 9, 16]\n",
      "Let me show you the output of a list comprehension:\n",
      "[1, 4, 9, 16]\n"
     ]
    }
   ],
   "source": [
    "### list comprehension ####\n",
    "x = [1,2,3,4]\n",
    "out = []\n",
    "for num in x:\n",
    "    out.append(num**2)\n",
    "print(out)\n",
    "print(\"Let me show you the output of a list comprehension:\")\n",
    "print([num**2 for num in x])"
   ]
  },
  {
   "cell_type": "code",
   "execution_count": 3,
   "metadata": {},
   "outputs": [
    {
     "name": "stdout",
     "output_type": "stream",
     "text": [
      "\n",
      "Below is a map:\n",
      "[2, 4, 6, 8, 10]\n"
     ]
    }
   ],
   "source": [
    "### lambda expressions ###\n",
    "def times2(num):\n",
    "    return num*2\n",
    "   \n",
    "seq = [1,2,3,4,5]\n",
    "print('\\nBelow is a map:')\n",
    "print(list(map(times2,seq)))"
   ]
  },
  {
   "cell_type": "code",
   "execution_count": 4,
   "metadata": {},
   "outputs": [
    {
     "name": "stdout",
     "output_type": "stream",
     "text": [
      "\n",
      "Below is a lambda expression:\n",
      "4\n",
      "\n",
      "Below is a map with a lambda expression:\n",
      "[2, 4, 6, 8, 10]\n"
     ]
    }
   ],
   "source": [
    "# lets write the lambda expression\n",
    "my_lambda = lambda num: num * 2 # note how the 'num' is used\n",
    "print('\\nBelow is a lambda expression:')\n",
    "print(my_lambda(2))\n",
    "print('\\nBelow is a map with a lambda expression:')\n",
    "print(list(map(my_lambda,seq)))"
   ]
  },
  {
   "cell_type": "code",
   "execution_count": 7,
   "metadata": {},
   "outputs": [
    {
     "name": "stdout",
     "output_type": "stream",
     "text": [
      "\n",
      "Below is a filter with a lambda expression:\n",
      "[2, 4]\n"
     ]
    }
   ],
   "source": [
    "### filter function ###\n",
    "my_filter = filter(lambda num: num % 2 == 0, seq) # this expression evaluates to: apply lambda expression to \"seq\"\n",
    "print('\\nBelow is a filter with a lambda expression:')\n",
    "print((list(my_filter)))"
   ]
  },
  {
   "cell_type": "code",
   "execution_count": 8,
   "metadata": {},
   "outputs": [
    {
     "name": "stdout",
     "output_type": "stream",
     "text": [
      "\n",
      "Below is the split method used to remove the hashtag element from a tweet:\n",
      " Sports\n"
     ]
    }
   ],
   "source": [
    "### split method ###\n",
    "tweet = \"Go Sports! # Sports\"\n",
    "print(\"\\nBelow is the split method used to remove the hashtag \"\n",
    "      \"element from a tweet:\")\n",
    "print(tweet.split('#')[1])"
   ]
  },
  {
   "cell_type": "code",
   "execution_count": 9,
   "metadata": {},
   "outputs": [
    {
     "name": "stdout",
     "output_type": "stream",
     "text": [
      "1\n",
      "2\n",
      "3\n",
      "4\n",
      "5\n",
      "6\n"
     ]
    }
   ],
   "source": [
    "### tuple unpacking ###\n",
    "t = [(1,2),(3,4),(5,6)]\n",
    "for a,b in t:\n",
    "    print(a)\n",
    "    print(b)"
   ]
  },
  {
   "cell_type": "code",
   "execution_count": null,
   "metadata": {},
   "outputs": [],
   "source": []
  }
 ],
 "metadata": {
  "kernelspec": {
   "display_name": "Python 3",
   "language": "python",
   "name": "python3"
  },
  "language_info": {
   "codemirror_mode": {
    "name": "ipython",
    "version": 3
   },
   "file_extension": ".py",
   "mimetype": "text/x-python",
   "name": "python",
   "nbconvert_exporter": "python",
   "pygments_lexer": "ipython3",
   "version": "3.6.3"
  }
 },
 "nbformat": 4,
 "nbformat_minor": 2
}
