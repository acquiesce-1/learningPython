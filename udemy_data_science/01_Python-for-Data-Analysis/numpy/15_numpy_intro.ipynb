{
 "cells": [
  {
   "cell_type": "code",
   "execution_count": 2,
   "metadata": {},
   "outputs": [
    {
     "name": "stdout",
     "output_type": "stream",
     "text": [
      "[1 2 3]\n"
     ]
    }
   ],
   "source": [
    "import numpy as np\n",
    "\n",
    " # numpy arrays come in 2 flavours:\n",
    " # vectors --> 1d shapes\n",
    " # matrices --> 2d shapes\n",
    "    \n",
    "my_lst = [1,2,3]\n",
    "arr = np.array(my_lst)\n",
    "print(arr)"
   ]
  },
  {
   "cell_type": "code",
   "execution_count": 2,
   "metadata": {},
   "outputs": [
    {
     "name": "stdout",
     "output_type": "stream",
     "text": [
      "[[1 2 3]\n",
      " [4 5 6]\n",
      " [7 8 9]]\n"
     ]
    }
   ],
   "source": [
    "my_mat = [[1,2,3],[4,5,6],[7,8,9]]\n",
    "arr2 = np.array(my_mat)\n",
    "print(arr2)"
   ]
  },
  {
   "cell_type": "code",
   "execution_count": 3,
   "metadata": {},
   "outputs": [
    {
     "name": "stdout",
     "output_type": "stream",
     "text": [
      "[0 3 6 9]\n"
     ]
    }
   ],
   "source": [
    "### common ways to create a numpy array ###\n",
    "numpy_range = np.arange(0,10,3) # works like python 'range' function\n",
    "print(numpy_range)"
   ]
  },
  {
   "cell_type": "code",
   "execution_count": 4,
   "metadata": {},
   "outputs": [
    {
     "name": "stdout",
     "output_type": "stream",
     "text": [
      "[[ 0.  0.  0.  0.  0.  0.  0.]\n",
      " [ 0.  0.  0.  0.  0.  0.  0.]\n",
      " [ 0.  0.  0.  0.  0.  0.  0.]\n",
      " [ 0.  0.  0.  0.  0.  0.  0.]\n",
      " [ 0.  0.  0.  0.  0.  0.  0.]]\n"
     ]
    }
   ],
   "source": [
    "numpy_zeros = np.zeros((5,7))\n",
    "print(numpy_zeros)"
   ]
  },
  {
   "cell_type": "code",
   "execution_count": 5,
   "metadata": {},
   "outputs": [
    {
     "name": "stdout",
     "output_type": "stream",
     "text": [
      "[ 0.          0.20833333  0.41666667  0.625       0.83333333  1.04166667\n",
      "  1.25        1.45833333  1.66666667  1.875       2.08333333  2.29166667\n",
      "  2.5         2.70833333  2.91666667  3.125       3.33333333  3.54166667\n",
      "  3.75        3.95833333  4.16666667  4.375       4.58333333  4.79166667\n",
      "  5.        ]\n"
     ]
    }
   ],
   "source": [
    "### Evenly spaced output ###\n",
    "numpy_linspace = np.linspace(0,5,25) # different than range\n",
    "print(numpy_linspace)"
   ]
  },
  {
   "cell_type": "code",
   "execution_count": 4,
   "metadata": {},
   "outputs": [
    {
     "name": "stdout",
     "output_type": "stream",
     "text": [
      "[[ 1.  0.  0.]\n",
      " [ 0.  1.  0.]\n",
      " [ 0.  0.  1.]]\n"
     ]
    }
   ],
   "source": [
    "### identity matrix ###\n",
    "numpy_id_matrix = np.eye(3)\n",
    "print(numpy_id_matrix)"
   ]
  },
  {
   "cell_type": "code",
   "execution_count": 7,
   "metadata": {},
   "outputs": [
    {
     "name": "stdout",
     "output_type": "stream",
     "text": [
      "[[ 0.82247438  0.66666374  0.50259684  0.56973005  0.56335117]\n",
      " [ 0.12438014  0.28620905  0.49789319  0.94418855  0.92074564]\n",
      " [ 0.68607912  0.81742229  0.92113316  0.58473219  0.64880518]\n",
      " [ 0.65279371  0.51856063  0.52407683  0.57715056  0.43339166]\n",
      " [ 0.55896314  0.24241241  0.89426622  0.05142719  0.56318471]]\n"
     ]
    }
   ],
   "source": [
    "### random numbers ###\n",
    "numpy_random = np.random.rand(5,5)\n",
    "print(numpy_random)"
   ]
  },
  {
   "cell_type": "code",
   "execution_count": 8,
   "metadata": {},
   "outputs": [
    {
     "name": "stdout",
     "output_type": "stream",
     "text": [
      "[[ 2.21960447  0.08108087 -0.03616002  0.1101119  -1.2222528 ]\n",
      " [-0.2700106  -1.01626506  0.26420509  1.07806709  1.28574783]\n",
      " [-0.72552312  0.76332179  0.31546146  0.31154592 -0.45471921]\n",
      " [ 0.28658855 -1.11255005  0.01294503  1.28291469  0.6963079 ]\n",
      " [ 2.84659678  0.77188485 -0.79658173 -1.01792975 -1.06294638]]\n"
     ]
    }
   ],
   "source": [
    "numpy_random_gaussian = np.random.randn(5,5)\n",
    "print(numpy_random_gaussian)"
   ]
  },
  {
   "cell_type": "code",
   "execution_count": 9,
   "metadata": {},
   "outputs": [
    {
     "name": "stdout",
     "output_type": "stream",
     "text": [
      "[46 31  2 84  7 78 58 86 41 48 71  6 53 38  2 74 91 38 29 18 11 71 81 67  4\n",
      " 74 12 52 36 74 35 24 97 45 62 46 44 16 75 66 85 41 88 32 57  3 19 61 58 52]\n"
     ]
    }
   ],
   "source": [
    "numpy_random_random = np.random.randint(0,100,50)\n",
    "print(numpy_random_random)"
   ]
  },
  {
   "cell_type": "code",
   "execution_count": 19,
   "metadata": {},
   "outputs": [
    {
     "name": "stdout",
     "output_type": "stream",
     "text": [
      "[[ 0  1  2  3  4]\n",
      " [ 5  6  7  8  9]\n",
      " [10 11 12 13 14]\n",
      " [15 16 17 18 19]\n",
      " [20 21 22 23 24]]\n"
     ]
    }
   ],
   "source": [
    "### Shaping the matrix ###\n",
    "arr = np.arange(25)\n",
    "numpy_reshape = arr.reshape(5,5)\n",
    "print(numpy_reshape)"
   ]
  },
  {
   "cell_type": "code",
   "execution_count": 11,
   "metadata": {},
   "outputs": [
    {
     "name": "stdout",
     "output_type": "stream",
     "text": [
      "Min is:\n",
      "19\n",
      "Max is:\n",
      "4\n"
     ]
    }
   ],
   "source": [
    "numpy_random_random = np.random.randint(0,100,50)\n",
    "print(\"Min is:\")\n",
    "print(numpy_random_random.argmin())\n",
    "print(\"Max is:\")\n",
    "print(numpy_random_random.argmax())"
   ]
  },
  {
   "cell_type": "code",
   "execution_count": 12,
   "metadata": {},
   "outputs": [
    {
     "name": "stdout",
     "output_type": "stream",
     "text": [
      "(50,)\n",
      "int32\n"
     ]
    }
   ],
   "source": [
    "numpy_random_random = np.random.randint(0,100,50)\n",
    "print(numpy_random_random.shape)\n",
    "print(numpy_random_random.dtype)"
   ]
  },
  {
   "cell_type": "code",
   "execution_count": 25,
   "metadata": {},
   "outputs": [
    {
     "data": {
      "text/plain": [
       "array([[-75.5200335 ,  95.40728171, -54.69771369],\n",
       "       [-12.29628667,  -8.67891142,  22.00149622]])"
      ]
     },
     "execution_count": 25,
     "metadata": {},
     "output_type": "execute_result"
    }
   ],
   "source": [
    "# Samples are uniformly distributed over the half-open interval [low, high) (includes low, but excludes high). \n",
    "# In other words, any value within the given interval is equally likely to be drawn by uniform.\n",
    "np.random.uniform(-100, 100, size=(2,3)) #"
   ]
  },
  {
   "cell_type": "code",
   "execution_count": null,
   "metadata": {},
   "outputs": [],
   "source": []
  }
 ],
 "metadata": {
  "kernelspec": {
   "display_name": "Python 3",
   "language": "python",
   "name": "python3"
  },
  "language_info": {
   "codemirror_mode": {
    "name": "ipython",
    "version": 3
   },
   "file_extension": ".py",
   "mimetype": "text/x-python",
   "name": "python",
   "nbconvert_exporter": "python",
   "pygments_lexer": "ipython3",
   "version": "3.6.3"
  }
 },
 "nbformat": 4,
 "nbformat_minor": 2
}
