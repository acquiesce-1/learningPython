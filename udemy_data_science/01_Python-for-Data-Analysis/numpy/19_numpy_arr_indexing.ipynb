{
 "cells": [
  {
   "cell_type": "code",
   "execution_count": 6,
   "metadata": {},
   "outputs": [
    {
     "name": "stdout",
     "output_type": "stream",
     "text": [
      "Original array:\n",
      "[ 0  1  2  3  4  5  6  7  8  9 10]\n"
     ]
    }
   ],
   "source": [
    "import numpy as np\n",
    "\n",
    "\n",
    "### indexing a 1d array ###\n",
    "arr = np.arange(0,11)\n",
    "print(\"Original array:\")\n",
    "print(arr)"
   ]
  },
  {
   "cell_type": "code",
   "execution_count": 7,
   "metadata": {},
   "outputs": [
    {
     "name": "stdout",
     "output_type": "stream",
     "text": [
      "[1 2 3 4]\n",
      "[0 1 2 3 4 5]\n",
      "[ 1  2  3  4  5  6  7  8  9 10]\n"
     ]
    }
   ],
   "source": [
    "print(arr[1:5]) # one can slice and indexing just like a py list\n",
    "print(arr[:6]) # one can slice and indexing just like a py list\n",
    "print(arr[1:]) # one can slice and indexing just like a py list"
   ]
  },
  {
   "cell_type": "code",
   "execution_count": 8,
   "metadata": {},
   "outputs": [
    {
     "name": "stdout",
     "output_type": "stream",
     "text": [
      "[1, 2, 3, 4]\n"
     ]
    }
   ],
   "source": [
    "py_lst = [1,2,3,4,5,6]\n",
    "print(py_lst[:4])"
   ]
  },
  {
   "cell_type": "code",
   "execution_count": 9,
   "metadata": {},
   "outputs": [
    {
     "name": "stdout",
     "output_type": "stream",
     "text": [
      "[100 100 100 100 100   5   6   7   8   9  10]\n"
     ]
    }
   ],
   "source": [
    "arr = np.arange(0,11)\n",
    "arr[0:5] = 100\n",
    "print(arr)"
   ]
  },
  {
   "cell_type": "code",
   "execution_count": 10,
   "metadata": {},
   "outputs": [
    {
     "name": "stdout",
     "output_type": "stream",
     "text": [
      "[8 8 8 8 8 8 8 8 8 8 8]\n"
     ]
    }
   ],
   "source": [
    "arr = np.arange(0,11)\n",
    "arr[:] = 8\n",
    "print(arr)"
   ]
  },
  {
   "cell_type": "code",
   "execution_count": 12,
   "metadata": {},
   "outputs": [
    {
     "name": "stdout",
     "output_type": "stream",
     "text": [
      "Notice how the numpy array changes:\n",
      "[8 8 8 8 8 8 8 8 8 8 8]\n",
      "-------------------------------\n",
      "\n",
      "Notice how the numpy copy array DOES NOT change:\n",
      "[ 0  1  2  3  4  5  6  7  8  9 10]\n",
      "-------------------------------\n",
      "\n"
     ]
    }
   ],
   "source": [
    "arr = np.arange(0,11)\n",
    "arr_copy = arr.copy()\n",
    "arr[:] = 8\n",
    "print(\"Notice how the numpy array changes:\")\n",
    "print(arr)\n",
    "print('-------------------------------\\n')\n",
    "print(\"Notice how the numpy copy array DOES NOT change:\")\n",
    "print(arr_copy)\n",
    "print('-------------------------------\\n')"
   ]
  },
  {
   "cell_type": "code",
   "execution_count": 14,
   "metadata": {},
   "outputs": [
    {
     "name": "stdout",
     "output_type": "stream",
     "text": [
      "[[ 5 10 15]\n",
      " [20 25 30]\n",
      " [35 40 45]]\n"
     ]
    }
   ],
   "source": [
    "### indexing a 2d array ###\n",
    "arr_2df = np.array([[5,10,15],[20,25,30],[35,40,45]])\n",
    "print(arr_2df)"
   ]
  },
  {
   "cell_type": "code",
   "execution_count": 17,
   "metadata": {},
   "outputs": [
    {
     "name": "stdout",
     "output_type": "stream",
     "text": [
      "Double bracket method:\n",
      "15\n"
     ]
    }
   ],
   "source": [
    "# grabing elements from a 2d array\n",
    "print(\"Double bracket method:\")\n",
    "print(arr_2df[0][2])"
   ]
  },
  {
   "cell_type": "code",
   "execution_count": 18,
   "metadata": {},
   "outputs": [
    {
     "name": "stdout",
     "output_type": "stream",
     "text": [
      "Single bracket method (recommended):\n",
      "15\n"
     ]
    }
   ],
   "source": [
    "print(\"Single bracket method (recommended):\")\n",
    "print(arr_2df[0,2])"
   ]
  },
  {
   "cell_type": "code",
   "execution_count": 19,
   "metadata": {},
   "outputs": [
    {
     "name": "stdout",
     "output_type": "stream",
     "text": [
      "Retrieving a matrix chuck:\n",
      "[[20 25]\n",
      " [35 40]]\n"
     ]
    }
   ],
   "source": [
    "# grabing chunks from a 2d array\n",
    "print(\"Retrieving a matrix chuck:\")\n",
    "print(arr_2df[1:,:2])"
   ]
  },
  {
   "cell_type": "code",
   "execution_count": 22,
   "metadata": {},
   "outputs": [
    {
     "name": "stdout",
     "output_type": "stream",
     "text": [
      "Conditional selection boll_arr:\n",
      "[ 1  2  3  4  5  6  7  8  9 10]\n",
      "[ 6  7  8  9 10]\n",
      "[1 2 3 4]\n",
      "[ 6  7  8  9 10]\n",
      "-------------------------------\n",
      "\n",
      "End of lecture exercise:\n",
      "[[ 0  1  2  3  4  5  6  7  8  9]\n",
      " [10 11 12 13 14 15 16 17 18 19]\n",
      " [20 21 22 23 24 25 26 27 28 29]\n",
      " [30 31 32 33 34 35 36 37 38 39]\n",
      " [40 41 42 43 44 45 46 47 48 49]]\n",
      "[26 27 28 29 30 31 32 33 34 35 36 37 38 39 40 41 42 43 44 45 46 47 48 49]\n",
      "[ 0  1  2  3  4  5  6  7  8  9 10 11 12 13 14 15 16 17 18 19 20 21 22 23 24]\n",
      "[[32 33 34]\n",
      " [42 43 44]]\n"
     ]
    }
   ],
   "source": [
    "### conditional selection ###\n",
    "arr = np.arange(1,11)\n",
    "bool_arr = arr > 5\n",
    "\n",
    "print(\"Conditional selection boll_arr:\")\n",
    "print(arr)\n",
    "print(arr[arr > 5]) # acts as a filter\n",
    "print(arr[arr < 5])\n",
    "print(arr[bool_arr])\n",
    "print('-------------------------------\\n')\n",
    "\n",
    "print(\"End of lecture exercise:\")\n",
    "arr = np.arange(50).reshape(5,10)\n",
    "print(arr)\n",
    "print(arr[arr > 25])\n",
    "print(arr[arr < 25])\n",
    "print(arr[3:,2:5])"
   ]
  },
  {
   "cell_type": "code",
   "execution_count": null,
   "metadata": {},
   "outputs": [],
   "source": []
  }
 ],
 "metadata": {
  "kernelspec": {
   "display_name": "Python 3",
   "language": "python",
   "name": "python3"
  },
  "language_info": {
   "codemirror_mode": {
    "name": "ipython",
    "version": 3
   },
   "file_extension": ".py",
   "mimetype": "text/x-python",
   "name": "python",
   "nbconvert_exporter": "python",
   "pygments_lexer": "ipython3",
   "version": "3.6.3"
  }
 },
 "nbformat": 4,
 "nbformat_minor": 2
}
