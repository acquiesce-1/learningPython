{
 "cells": [
  {
   "cell_type": "code",
   "execution_count": 13,
   "metadata": {},
   "outputs": [
    {
     "data": {
      "text/html": [
       "<div>\n",
       "<style scoped>\n",
       "    .dataframe tbody tr th:only-of-type {\n",
       "        vertical-align: middle;\n",
       "    }\n",
       "\n",
       "    .dataframe tbody tr th {\n",
       "        vertical-align: top;\n",
       "    }\n",
       "\n",
       "    .dataframe thead th {\n",
       "        text-align: right;\n",
       "    }\n",
       "</style>\n",
       "<table border=\"1\" class=\"dataframe\">\n",
       "  <thead>\n",
       "    <tr style=\"text-align: right;\">\n",
       "      <th></th>\n",
       "      <th>BBG_TICKER</th>\n",
       "      <th>IB_TICKER</th>\n",
       "    </tr>\n",
       "  </thead>\n",
       "  <tbody>\n",
       "    <tr>\n",
       "      <th>0</th>\n",
       "      <td>AAPL US Equity</td>\n",
       "      <td>AAPL</td>\n",
       "    </tr>\n",
       "    <tr>\n",
       "      <th>1</th>\n",
       "      <td>MSFT US Equity</td>\n",
       "      <td>MSFT</td>\n",
       "    </tr>\n",
       "    <tr>\n",
       "      <th>2</th>\n",
       "      <td>GOOG US Equity</td>\n",
       "      <td>GOOG</td>\n",
       "    </tr>\n",
       "    <tr>\n",
       "      <th>3</th>\n",
       "      <td>SQ US Equity</td>\n",
       "      <td>SQ</td>\n",
       "    </tr>\n",
       "    <tr>\n",
       "      <th>4</th>\n",
       "      <td>AAPL US Equity</td>\n",
       "      <td>aapl2</td>\n",
       "    </tr>\n",
       "  </tbody>\n",
       "</table>\n",
       "</div>"
      ],
      "text/plain": [
       "       BBG_TICKER IB_TICKER\n",
       "0  AAPL US Equity      AAPL\n",
       "1  MSFT US Equity      MSFT\n",
       "2  GOOG US Equity      GOOG\n",
       "3    SQ US Equity        SQ\n",
       "4  AAPL US Equity     aapl2"
      ]
     },
     "execution_count": 13,
     "metadata": {},
     "output_type": "execute_result"
    }
   ],
   "source": [
    "import pandas as pd\n",
    "\n",
    "df = pd.DataFrame({'IB_TICKER':['AAPL','MSFT','GOOG','SQ','aapl2'],\n",
    "                  'BBG_TICKER':['AAPL US Equity', 'MSFT US Equity','GOOG US Equity','SQ US Equity','AAPL US Equity']})\n",
    "df"
   ]
  },
  {
   "cell_type": "code",
   "execution_count": 65,
   "metadata": {},
   "outputs": [
    {
     "name": "stdout",
     "output_type": "stream",
     "text": [
      "['AAPL US Equity']\n"
     ]
    }
   ],
   "source": [
    "new_df = df['BBG_TICKER'].value_counts() > 1\n",
    "\n",
    "tickers = df['BBG_TICKER'].values.tolist()\n",
    "\n",
    "repeats = []\n",
    "ongoing =[]\n",
    "for ticker in tickers:\n",
    "    if ticker in ongoing:\n",
    "        repeats.append(ticker)\n",
    "    else:\n",
    "        ongoing.append(ticker)\n",
    "\n",
    "print(repeats)        "
   ]
  },
  {
   "cell_type": "code",
   "execution_count": 18,
   "metadata": {},
   "outputs": [
    {
     "data": {
      "text/plain": [
       "0    AAPL US Equity\n",
       "Name: BBG_TICKER, dtype: object"
      ]
     },
     "execution_count": 18,
     "metadata": {},
     "output_type": "execute_result"
    }
   ],
   "source": [
    "df[df['IB_TICKER'] == 'AAPL']['BBG_TICKER']"
   ]
  }
 ],
 "metadata": {
  "kernelspec": {
   "display_name": "Python 3",
   "language": "python",
   "name": "python3"
  },
  "language_info": {
   "codemirror_mode": {
    "name": "ipython",
    "version": 3
   },
   "file_extension": ".py",
   "mimetype": "text/x-python",
   "name": "python",
   "nbconvert_exporter": "python",
   "pygments_lexer": "ipython3",
   "version": "3.6.3"
  }
 },
 "nbformat": 4,
 "nbformat_minor": 2
}
