{
 "cells": [
  {
   "cell_type": "code",
   "execution_count": 34,
   "metadata": {},
   "outputs": [],
   "source": [
    "class Restaurant():\n",
    "    \"\"\"Modeling a restaurant\"\"\"\n",
    "    \n",
    "    def __init__(self, restaurant_name, cusine_type):\n",
    "        \"\"\"Initializing the attributes of a restaurant\"\"\"\n",
    "        self.restaurant_name = restaurant_name\n",
    "        self.cusine_type = cusine_type\n",
    "        self.number_served = 0\n",
    "        \n",
    "    def describe_restaurant(self): # don't forget to always pass self to methods\n",
    "        \"\"\"Describe restaurant\"\"\"\n",
    "        description = (self.restaurant_name + \" specializes in \" + self.cusine_type + \" food\")\n",
    "        print(description)"
   ]
  },
  {
   "cell_type": "code",
   "execution_count": 35,
   "metadata": {},
   "outputs": [
    {
     "name": "stdout",
     "output_type": "stream",
     "text": [
      "Sukko Thai specializes in Thai food\n"
     ]
    }
   ],
   "source": [
    "s_thai = Restaurant('Sukko Thai', 'Thai')\n",
    "s_thai.describe_restaurant()"
   ]
  },
  {
   "cell_type": "code",
   "execution_count": 54,
   "metadata": {},
   "outputs": [],
   "source": [
    "class IceCreamStand(Restaurant):\n",
    "    \"\"\"Inherest Restaurant class\"\"\"\n",
    "    \n",
    "    def __init__(self,restaurant_name, cusine_type):\n",
    "        \"\"\"Initiates the attributes of the parent class\"\"\"\n",
    "        \n",
    "        super().__init__(restaurant_name, cusine_type)\n",
    "        \"\"\"Init class attributes\"\"\"\n",
    "        self.flavours_offered = ['Vanilla', 'Chocolate']\n",
    "        \n",
    "    def flavours_available(self):\n",
    "        \"\"\"prints which flavours are available\"\"\"\n",
    "        print(self.restaurant_name + \"currently offers the follwoing flavours: \" + str(self.flavours_offered))\n",
    "        \n",
    "        "
   ]
  },
  {
   "cell_type": "code",
   "execution_count": 55,
   "metadata": {},
   "outputs": [
    {
     "name": "stdout",
     "output_type": "stream",
     "text": [
      "Baskin Robin specializes in Ice Cream food\n"
     ]
    }
   ],
   "source": [
    "baskin_robin = IceCreamStand('Baskin Robin','Ice Cream')\n",
    "\n",
    "baskin_robin.describe_restaurant()"
   ]
  },
  {
   "cell_type": "code",
   "execution_count": 56,
   "metadata": {},
   "outputs": [
    {
     "name": "stdout",
     "output_type": "stream",
     "text": [
      "Baskin Robincurrently offers the follwoing flavours: ['Vanilla', 'Chocolate']\n"
     ]
    }
   ],
   "source": [
    "baskin_robin.flavours_available()"
   ]
  },
  {
   "cell_type": "code",
   "execution_count": null,
   "metadata": {},
   "outputs": [],
   "source": []
  }
 ],
 "metadata": {
  "kernelspec": {
   "display_name": "Python 3",
   "language": "python",
   "name": "python3"
  },
  "language_info": {
   "codemirror_mode": {
    "name": "ipython",
    "version": 3
   },
   "file_extension": ".py",
   "mimetype": "text/x-python",
   "name": "python",
   "nbconvert_exporter": "python",
   "pygments_lexer": "ipython3",
   "version": "3.6.3"
  }
 },
 "nbformat": 4,
 "nbformat_minor": 2
}
